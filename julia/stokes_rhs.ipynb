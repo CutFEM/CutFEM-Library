{
 "cells": [
  {
   "cell_type": "code",
   "execution_count": 6,
   "metadata": {},
   "outputs": [
    {
     "name": "stdout",
     "output_type": "stream",
     "text": [
      "RHS of momentum equation: [20*x*(x**2 - y**2) + 2*x*(10*x**2 - 10*y**2) - 32*y + 16, 32*x - 20*y*(x**2 - y**2) - 2*y*(10*x**2 - 10*y**2) - 16]\n",
      "RHS of continuity equation: (2 - 4*y)*(2*x - 1) + (4*x - 2)*(2*y - 1)\n"
     ]
    }
   ],
   "source": [
    "import sympy as sp\n",
    "import numpy as np\n",
    "\n",
    "# Define the variables\n",
    "x, y = sp.symbols('x y')\n",
    "\n",
    "# Define the solution u\n",
    "u = [2 * (x * x - x + 0.25 + y * y - y) * (2 * y - 1), -2 * (x * x - x + 0.25 + y * y - y) * (2 * x - 1)]  \n",
    "\n",
    "# Define the pressure p\n",
    "p = 10 * (x * x - y * y) * (x * x - y * y)  # replace with your pressure function\n",
    "\n",
    "# Compute the gradient of each component of u\n",
    "grad_u = [[sp.diff(u_i, x_j) for x_j in (x, y)] for u_i in u]\n",
    "\n",
    "# Compute the divergence of u\n",
    "div_u = sum(sp.diff(u_i, x_i) for u_i, x_i in zip(u, (x, y)))\n",
    "\n",
    "# Compute the Laplacian of u\n",
    "laplacian_u = [sum(sp.diff(grad_u_i_j, x_j) for grad_u_i_j, x_j in zip(grad_u_i, (x, y))) for grad_u_i in grad_u]\n",
    "\n",
    "# Compute the gradient of p\n",
    "grad_p = [sp.diff(p, x_i) for x_i in (x, y)]\n",
    "\n",
    "# Compute the RHS of the momentum equation in the Stokes equations\n",
    "rhs_momentum = [- lap_u_i + grad_p_i for lap_u_i, grad_p_i in zip(laplacian_u, grad_p)]\n",
    "\n",
    "# Compute the RHS of the continuity equation in the Stokes equations\n",
    "rhs_continuity = div_u\n",
    "\n",
    "# Print the RHS functions\n",
    "print(\"RHS of momentum equation:\", rhs_momentum)\n",
    "print(\"RHS of continuity equation:\", rhs_continuity)\n",
    "\n",
    "# rhs_momentum_cpp = [sp.ccode(rhs) for rhs in rhs_momentum]\n",
    "# rhs_continuity_cpp = sp.ccode(rhs_continuity)\n",
    "\n",
    "# # Print the RHS functions in C++ format\n",
    "# print(\"RHS of momentum equation in C++:\", rhs_momentum_cpp)\n",
    "# print(\"RHS of continuity equation in C++:\", rhs_continuity_cpp)"
   ]
  }
 ],
 "metadata": {
  "kernelspec": {
   "display_name": "Python 3",
   "language": "python",
   "name": "python3"
  },
  "language_info": {
   "codemirror_mode": {
    "name": "ipython",
    "version": 3
   },
   "file_extension": ".py",
   "mimetype": "text/x-python",
   "name": "python",
   "nbconvert_exporter": "python",
   "pygments_lexer": "ipython3",
   "version": "3.10.9"
  }
 },
 "nbformat": 4,
 "nbformat_minor": 2
}
