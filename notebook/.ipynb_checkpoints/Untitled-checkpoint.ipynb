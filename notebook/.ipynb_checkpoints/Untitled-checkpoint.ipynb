{
 "cells": [
  {
   "cell_type": "markdown",
   "id": "6330ce26",
   "metadata": {},
   "source": [
    "# Darcy interface problem"
   ]
  },
  {
   "cell_type": "code",
   "execution_count": 1,
   "id": "58768870",
   "metadata": {},
   "outputs": [],
   "source": [
    "import numpy as np\n",
    "import ctypes\n",
    "from matplotlib import pyplot as plt\n",
    "from mpi4py import MPI\n"
   ]
  },
  {
   "cell_type": "markdown",
   "id": "5166b914",
   "metadata": {},
   "source": [
    "Add some needed packages"
   ]
  },
  {
   "cell_type": "code",
   "execution_count": 2,
   "id": "f722416c",
   "metadata": {},
   "outputs": [],
   "source": [
    "import sys\n",
    "sys.path.append('/Users/thomas/Documents/cutFEM/libcutfem/python')\n",
    "from darcy_wrapper import *\n",
    "from darcy_data import *\n",
    "\n",
    "# comm = MPI.COMM_WORLD\n",
    "# rank = comm.Get_rank()\n",
    "\n",
    "fun_div         = USER_FUNC(func_div)\n",
    "fun_neumann     = USER_FUNC(func_neumann)\n",
    "fun_phat        = USER_FUNC(func_phat)\n",
    "fun_velocity    = USER_FUNC(func_velocity)\n",
    "fun_pressure    = USER_FUNC(func_pressure)\n",
    "\n",
    "set_verbose(0)"
   ]
  },
  {
   "cell_type": "markdown",
   "id": "20742e06",
   "metadata": {},
   "source": [
    "Initialize the problem, mesh and function spaces"
   ]
  },
  {
   "cell_type": "code",
   "execution_count": 3,
   "id": "55f7ca8b",
   "metadata": {},
   "outputs": [
    {
     "name": "stdout",
     "output_type": "stream",
     "text": [
      " Cut Mesh has  \t2 domains\n",
      " nb elements in \t0 => 2636\n",
      " nb elements in \t1 => 706\n",
      " nb elements in total => \t3342\n",
      " nb node    \t5164\n",
      " nb dof     \t5164\n",
      " nb element \t3342\n",
      " nb node    \t3342\n",
      " nb dof     \t3342\n",
      " nb element \t3342\n"
     ]
    }
   ],
   "source": [
    "darcy = Darcy2()\n",
    "darcy.build_mesh(41,41,0.,0.,1.,1.)\n",
    "darcy.init_space('RT0')\n"
   ]
  },
  {
   "cell_type": "markdown",
   "id": "c3925cd1",
   "metadata": {},
   "source": [
    "\\begin{align}\n",
    "\ta(\\mathbf{u},\\mathbf{v}) + b(\\mathbf{v},p) &= \\mathcal{F} (\\mathbf{v}) \\text{ for all } \\mathbf{v}\\in \\mathbf{V}_0, \\\\\n",
    "\tb(\\mathbf{u},q) &= \\mathcal{G} (q) \\text{ for all } q\\in Q\n",
    "\\end{align}\n",
    "with \n",
    "\\begin{align}\n",
    "\ta(\\mathbf{u},\\mathbf{v}) &:= (\\boldsymbol{\\eta} \\mathbf{u},\\mathbf{v})_{\\Omega_1 \\cup \\Omega_2} +  (\\boldsymbol{\\eta}_{\\Gamma} \\{\\mathbf{u}\\cdot\\mathbf{n}\\},\\{\\mathbf{v}\\cdot\\mathbf{n}\\})_{\\Gamma} + (\\xi\\boldsymbol{\\eta}_{\\Gamma} [ \\mathbf{u}\\cdot\\mathbf{n} ], [\\mathbf{v}\\cdot\\mathbf{n}])_{\\Gamma} \\\\\n",
    "\tb(\\mathbf{u},q) &:= -(\\nabla \\cdot \\mathbf{u},q)_{\\Omega_1 \\cup \\Omega_2}  \\\\\n",
    "\t\\mathcal{F} (\\mathbf{v}) &:= (\\mathbf{f},\\mathbf{v})_{\\Omega_1 \\cup \\Omega_2} \n",
    "\t- (p_B,\\mathbf{v}\\cdot \\mathbf{n})_{\\partial \\Omega_p}  - (\\hat{p}, [\\mathbf{v}\\cdot\\mathbf{n}])_{\\Gamma} \\\\\n",
    "\t\\mathcal{G}(q) &:= - (g,q)_{\\Omega_1 \\cup \\Omega_2}\n",
    "\\end{align}\n"
   ]
  },
  {
   "cell_type": "code",
   "execution_count": 4,
   "id": "8bab4d0a",
   "metadata": {},
   "outputs": [],
   "source": [
    "darcy.add_bulk_integral(fun_div)\n",
    "darcy.add_interface_integral(fun_phat)\n",
    "darcy.add_natural_BC(fun_neumann)\n",
    "\n"
   ]
  },
  {
   "cell_type": "code",
   "execution_count": 5,
   "id": "e14939f4",
   "metadata": {},
   "outputs": [
    {
     "name": "stdout",
     "output_type": "stream",
     "text": [
      "44 \t in Omega 1 \n",
      "58 \t in Omega 2 \n"
     ]
    }
   ],
   "source": [
    "darcy.set_stabilization_penalty(0.1, 0.1)\n",
    "darcy.add_macro_stabilization(0.25)"
   ]
  },
  {
   "cell_type": "code",
   "execution_count": 6,
   "id": "4aac9894",
   "metadata": {},
   "outputs": [],
   "source": [
    "darcy.solve_umfpack()"
   ]
  },
  {
   "cell_type": "code",
   "execution_count": 7,
   "id": "2da1c5b0",
   "metadata": {},
   "outputs": [
    {
     "name": "stdout",
     "output_type": "stream",
     "text": [
      "7.625603288040849e-14\n",
      "0.040320369043125415\n",
      "0.002735694784615322\n"
     ]
    }
   ],
   "source": [
    "\n",
    "\n",
    "error_divu_L2 = darcy.L2error_div(fun_div)\n",
    "error_u_L2    = darcy.L2error_vel(fun_velocity)\n",
    "error_p_L2    = darcy.L2error_pressure(fun_pressure)\n",
    "\n",
    "\n",
    "print(error_divu_L2)\n",
    "print(error_p_L2)\n",
    "print(error_u_L2)"
   ]
  },
  {
   "cell_type": "code",
   "execution_count": null,
   "id": "8e1c92ca",
   "metadata": {},
   "outputs": [],
   "source": [
    "darcy.write_vtk_file('../output/scotti_nx21.vtk')"
   ]
  }
 ],
 "metadata": {
  "kernelspec": {
   "display_name": "Python 3 (ipykernel)",
   "language": "python",
   "name": "python3"
  },
  "language_info": {
   "codemirror_mode": {
    "name": "ipython",
    "version": 3
   },
   "file_extension": ".py",
   "mimetype": "text/x-python",
   "name": "python",
   "nbconvert_exporter": "python",
   "pygments_lexer": "ipython3",
   "version": "3.10.8"
  }
 },
 "nbformat": 4,
 "nbformat_minor": 5
}
