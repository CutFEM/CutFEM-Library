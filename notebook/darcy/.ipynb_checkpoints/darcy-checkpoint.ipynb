{
 "cells": [
  {
   "cell_type": "markdown",
   "id": "6330ce26",
   "metadata": {},
   "source": [
    "# Darcy interface problem"
   ]
  },
  {
   "cell_type": "code",
   "execution_count": 1,
   "id": "58768870",
   "metadata": {},
   "outputs": [],
   "source": [
    "import numpy as np\n",
    "import ctypes\n",
    "from matplotlib import pyplot as plt\n",
    "from mpi4py import MPI\n"
   ]
  },
  {
   "cell_type": "markdown",
   "id": "5166b914",
   "metadata": {},
   "source": [
    "Add some needed packages"
   ]
  },
  {
   "cell_type": "code",
   "execution_count": 2,
   "id": "f722416c",
   "metadata": {},
   "outputs": [
    {
     "ename": "OSError",
     "evalue": "dlopen(../cpp/build/lib/lib_darcy.dylib, 6): image not found",
     "output_type": "error",
     "traceback": [
      "\u001b[0;31m---------------------------------------------------------------------------\u001b[0m",
      "\u001b[0;31mOSError\u001b[0m                                   Traceback (most recent call last)",
      "Cell \u001b[0;32mIn [2], line 3\u001b[0m\n\u001b[1;32m      1\u001b[0m \u001b[38;5;28;01mimport\u001b[39;00m \u001b[38;5;21;01msys\u001b[39;00m\n\u001b[1;32m      2\u001b[0m sys\u001b[38;5;241m.\u001b[39mpath\u001b[38;5;241m.\u001b[39mappend(\u001b[38;5;124m'\u001b[39m\u001b[38;5;124m/Users/thomas/Documents/cutFEM/libcutfem/python\u001b[39m\u001b[38;5;124m'\u001b[39m)\n\u001b[0;32m----> 3\u001b[0m \u001b[38;5;28;01mfrom\u001b[39;00m \u001b[38;5;21;01mdarcy_wrapper\u001b[39;00m \u001b[38;5;28;01mimport\u001b[39;00m \u001b[38;5;241m*\u001b[39m\n\u001b[1;32m      4\u001b[0m \u001b[38;5;28;01mfrom\u001b[39;00m \u001b[38;5;21;01mdarcy_data\u001b[39;00m \u001b[38;5;28;01mimport\u001b[39;00m \u001b[38;5;241m*\u001b[39m\n\u001b[1;32m      6\u001b[0m \u001b[38;5;66;03m# comm = MPI.COMM_WORLD\u001b[39;00m\n\u001b[1;32m      7\u001b[0m \u001b[38;5;66;03m# rank = comm.Get_rank()\u001b[39;00m\n",
      "File \u001b[0;32m~/Documents/cutFEM/libcutfem/python/darcy_wrapper.py:7\u001b[0m\n\u001b[1;32m      4\u001b[0m \u001b[38;5;28;01mfrom\u001b[39;00m \u001b[38;5;21;01mscipy\u001b[39;00m\u001b[38;5;21;01m.\u001b[39;00m\u001b[38;5;21;01msparse\u001b[39;00m \u001b[38;5;28;01mimport\u001b[39;00m csr_matrix\n\u001b[1;32m      5\u001b[0m \u001b[38;5;28;01mfrom\u001b[39;00m \u001b[38;5;21;01mscipy\u001b[39;00m\u001b[38;5;21;01m.\u001b[39;00m\u001b[38;5;21;01msparse\u001b[39;00m\u001b[38;5;21;01m.\u001b[39;00m\u001b[38;5;21;01mlinalg\u001b[39;00m \u001b[38;5;28;01mimport\u001b[39;00m spsolve\n\u001b[0;32m----> 7\u001b[0m lib \u001b[38;5;241m=\u001b[39m \u001b[43mct\u001b[49m\u001b[38;5;241;43m.\u001b[39;49m\u001b[43mcdll\u001b[49m\u001b[38;5;241;43m.\u001b[39;49m\u001b[43mLoadLibrary\u001b[49m\u001b[43m(\u001b[49m\u001b[38;5;124;43m'\u001b[39;49m\u001b[38;5;124;43m../cpp/build/lib/lib_darcy.dylib\u001b[39;49m\u001b[38;5;124;43m'\u001b[39;49m\u001b[43m)\u001b[49m\n\u001b[1;32m      9\u001b[0m \u001b[38;5;66;03m# Function types for divergence, velocity, pressure\u001b[39;00m\n\u001b[1;32m     10\u001b[0m \u001b[38;5;66;03m#double fun_div(const R2 P, int compInd, int dom)\u001b[39;00m\n\u001b[1;32m     11\u001b[0m USER_FUNC \u001b[38;5;241m=\u001b[39m ct\u001b[38;5;241m.\u001b[39mCFUNCTYPE(ct\u001b[38;5;241m.\u001b[39mc_double, ct\u001b[38;5;241m.\u001b[39mPOINTER(ct\u001b[38;5;241m.\u001b[39mc_double), ct\u001b[38;5;241m.\u001b[39mc_int, ct\u001b[38;5;241m.\u001b[39mc_int)\n",
      "File \u001b[0;32m/usr/local/Cellar/python@3.10/3.10.8/Frameworks/Python.framework/Versions/3.10/lib/python3.10/ctypes/__init__.py:452\u001b[0m, in \u001b[0;36mLibraryLoader.LoadLibrary\u001b[0;34m(self, name)\u001b[0m\n\u001b[1;32m    451\u001b[0m \u001b[38;5;28;01mdef\u001b[39;00m \u001b[38;5;21mLoadLibrary\u001b[39m(\u001b[38;5;28mself\u001b[39m, name):\n\u001b[0;32m--> 452\u001b[0m     \u001b[38;5;28;01mreturn\u001b[39;00m \u001b[38;5;28;43mself\u001b[39;49m\u001b[38;5;241;43m.\u001b[39;49m\u001b[43m_dlltype\u001b[49m\u001b[43m(\u001b[49m\u001b[43mname\u001b[49m\u001b[43m)\u001b[49m\n",
      "File \u001b[0;32m/usr/local/Cellar/python@3.10/3.10.8/Frameworks/Python.framework/Versions/3.10/lib/python3.10/ctypes/__init__.py:374\u001b[0m, in \u001b[0;36mCDLL.__init__\u001b[0;34m(self, name, mode, handle, use_errno, use_last_error, winmode)\u001b[0m\n\u001b[1;32m    371\u001b[0m \u001b[38;5;28mself\u001b[39m\u001b[38;5;241m.\u001b[39m_FuncPtr \u001b[38;5;241m=\u001b[39m _FuncPtr\n\u001b[1;32m    373\u001b[0m \u001b[38;5;28;01mif\u001b[39;00m handle \u001b[38;5;129;01mis\u001b[39;00m \u001b[38;5;28;01mNone\u001b[39;00m:\n\u001b[0;32m--> 374\u001b[0m     \u001b[38;5;28mself\u001b[39m\u001b[38;5;241m.\u001b[39m_handle \u001b[38;5;241m=\u001b[39m \u001b[43m_dlopen\u001b[49m\u001b[43m(\u001b[49m\u001b[38;5;28;43mself\u001b[39;49m\u001b[38;5;241;43m.\u001b[39;49m\u001b[43m_name\u001b[49m\u001b[43m,\u001b[49m\u001b[43m \u001b[49m\u001b[43mmode\u001b[49m\u001b[43m)\u001b[49m\n\u001b[1;32m    375\u001b[0m \u001b[38;5;28;01melse\u001b[39;00m:\n\u001b[1;32m    376\u001b[0m     \u001b[38;5;28mself\u001b[39m\u001b[38;5;241m.\u001b[39m_handle \u001b[38;5;241m=\u001b[39m handle\n",
      "\u001b[0;31mOSError\u001b[0m: dlopen(../cpp/build/lib/lib_darcy.dylib, 6): image not found"
     ]
    }
   ],
   "source": [
    "import sys\n",
    "sys.path.append('/Users/thomas/Documents/cutFEM/libcutfem/python')\n",
    "from darcy_wrapper import *\n",
    "from darcy_data import *\n",
    "\n",
    "# comm = MPI.COMM_WORLD\n",
    "# rank = comm.Get_rank()\n",
    "\n",
    "fun_div         = USER_FUNC(func_div)\n",
    "fun_neumann     = USER_FUNC(func_neumann)\n",
    "fun_phat        = USER_FUNC(func_phat)\n",
    "fun_velocity    = USER_FUNC(func_velocity)\n",
    "fun_pressure    = USER_FUNC(func_pressure)\n",
    "\n",
    "set_verbose(0)"
   ]
  },
  {
   "cell_type": "markdown",
   "id": "20742e06",
   "metadata": {},
   "source": [
    "Initialize the problem, mesh and function spaces"
   ]
  },
  {
   "cell_type": "code",
   "execution_count": 3,
   "id": "55f7ca8b",
   "metadata": {},
   "outputs": [
    {
     "name": "stdout",
     "output_type": "stream",
     "text": [
      " Cut Mesh has  \t2 domains\n",
      " nb elements in \t0 => 2636\n",
      " nb elements in \t1 => 706\n",
      " nb elements in total => \t3342\n",
      " nb node    \t5164\n",
      " nb dof     \t5164\n",
      " nb element \t3342\n",
      " nb node    \t3342\n",
      " nb dof     \t3342\n",
      " nb element \t3342\n"
     ]
    }
   ],
   "source": [
    "darcy = Darcy2()\n",
    "darcy.build_mesh(41,41,0.,0.,1.,1.)\n",
    "darcy.init_space('RT0')\n"
   ]
  },
  {
   "cell_type": "markdown",
   "id": "c3925cd1",
   "metadata": {},
   "source": [
    "\\begin{align}\n",
    "\ta(\\mathbf{u},\\mathbf{v}) + b(\\mathbf{v},p) &= \\mathcal{F} (\\mathbf{v}) \\text{ for all } \\mathbf{v}\\in \\mathbf{V}_0, \\\\\n",
    "\tb(\\mathbf{u},q) &= \\mathcal{G} (q) \\text{ for all } q\\in Q\n",
    "\\end{align}\n",
    "with \n",
    "\\begin{align}\n",
    "\ta(\\mathbf{u},\\mathbf{v}) &:= (\\boldsymbol{\\eta} \\mathbf{u},\\mathbf{v})_{\\Omega_1 \\cup \\Omega_2} +  (\\boldsymbol{\\eta}_{\\Gamma} \\{\\mathbf{u}\\cdot\\mathbf{n}\\},\\{\\mathbf{v}\\cdot\\mathbf{n}\\})_{\\Gamma} + (\\xi\\boldsymbol{\\eta}_{\\Gamma} [ \\mathbf{u}\\cdot\\mathbf{n} ], [\\mathbf{v}\\cdot\\mathbf{n}])_{\\Gamma} \\\\\n",
    "\tb(\\mathbf{u},q) &:= -(\\nabla \\cdot \\mathbf{u},q)_{\\Omega_1 \\cup \\Omega_2}  \\\\\n",
    "\t\\mathcal{F} (\\mathbf{v}) &:= (\\mathbf{f},\\mathbf{v})_{\\Omega_1 \\cup \\Omega_2} \n",
    "\t- (p_B,\\mathbf{v}\\cdot \\mathbf{n})_{\\partial \\Omega_p}  - (\\hat{p}, [\\mathbf{v}\\cdot\\mathbf{n}])_{\\Gamma} \\\\\n",
    "\t\\mathcal{G}(q) &:= - (g,q)_{\\Omega_1 \\cup \\Omega_2}\n",
    "\\end{align}\n"
   ]
  },
  {
   "cell_type": "code",
   "execution_count": 4,
   "id": "8bab4d0a",
   "metadata": {},
   "outputs": [],
   "source": [
    "darcy.add_bulk_integral(fun_div)\n",
    "darcy.add_interface_integral(fun_phat)\n",
    "darcy.add_natural_BC(fun_neumann)\n",
    "\n"
   ]
  },
  {
   "cell_type": "code",
   "execution_count": 5,
   "id": "e14939f4",
   "metadata": {},
   "outputs": [
    {
     "name": "stdout",
     "output_type": "stream",
     "text": [
      "44 \t in Omega 1 \n",
      "58 \t in Omega 2 \n"
     ]
    }
   ],
   "source": [
    "darcy.set_stabilization_penalty(0.1, 0.1)\n",
    "darcy.add_macro_stabilization(0.25)"
   ]
  },
  {
   "cell_type": "code",
   "execution_count": 6,
   "id": "4aac9894",
   "metadata": {},
   "outputs": [],
   "source": [
    "darcy.solve_umfpack()"
   ]
  },
  {
   "cell_type": "code",
   "execution_count": 7,
   "id": "2da1c5b0",
   "metadata": {},
   "outputs": [
    {
     "name": "stdout",
     "output_type": "stream",
     "text": [
      "7.625603288040849e-14\n",
      "0.040320369043125415\n",
      "0.002735694784615322\n"
     ]
    }
   ],
   "source": [
    "\n",
    "\n",
    "error_divu_L2 = darcy.L2error_div(fun_div)\n",
    "error_u_L2    = darcy.L2error_vel(fun_velocity)\n",
    "error_p_L2    = darcy.L2error_pressure(fun_pressure)\n",
    "\n",
    "\n",
    "print(error_divu_L2)\n",
    "print(error_p_L2)\n",
    "print(error_u_L2)"
   ]
  },
  {
   "cell_type": "code",
   "execution_count": null,
   "id": "8e1c92ca",
   "metadata": {},
   "outputs": [],
   "source": [
    "darcy.write_vtk_file('../output/scotti_nx21.vtk')"
   ]
  }
 ],
 "metadata": {
  "kernelspec": {
   "display_name": "Python 3.10.8 64-bit",
   "language": "python",
   "name": "python3"
  },
  "language_info": {
   "codemirror_mode": {
    "name": "ipython",
    "version": 3
   },
   "file_extension": ".py",
   "mimetype": "text/x-python",
   "name": "python",
   "nbconvert_exporter": "python",
   "pygments_lexer": "ipython3",
   "version": "3.10.8"
  },
  "vscode": {
   "interpreter": {
    "hash": "aee8b7b246df8f9039afb4144a1f6fd8d2ca17a180786b69acc140d282b71a49"
   }
  }
 },
 "nbformat": 4,
 "nbformat_minor": 5
}
