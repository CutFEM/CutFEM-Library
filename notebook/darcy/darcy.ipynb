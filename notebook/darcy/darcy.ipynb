{
 "cells": [
  {
   "cell_type": "markdown",
   "id": "6330ce26",
   "metadata": {},
   "source": [
    "# Darcy interface problem"
   ]
  },
  {
   "cell_type": "code",
   "execution_count": 1,
   "id": "58768870",
   "metadata": {},
   "outputs": [],
   "source": [
    "import sys\n",
    "sys.path.append('../../python/darcy/')\n",
    "from darcy_wrapper import *\n",
    "from darcy_data_example1_2D import *\n",
    "import matplotlib.pyplot as plt\n",
    "import numpy as np"
   ]
  },
  {
   "cell_type": "markdown",
   "id": "18f0a920",
   "metadata": {},
   "source": [
    "Given $\\mathbf{f}: \\Omega_{1}\\cup  \\Omega_{2} \\rightarrow \\mathbb{R}^d$,  $g: \\Omega_{1}\\cup  \\Omega_{2} \\rightarrow \\mathbb{R}$ , boundary data $p_B: \\partial\\Omega_{p} \\rightarrow \\mathbb{R}$, $u_B:  \\partial\\Omega_{\\mathbf{u}} \\rightarrow \\mathbb{R}$ where $\\partial \\Omega= \\partial\\Omega_{p}  \\cup  \\partial\\Omega_{\\mathbf{u}}$, with  $\\partial\\Omega_{p}  \\cap  \\partial\\Omega_{\\mathbf{u}} = \\emptyset$, a prescribed fluid pressure in the fracture $\\hat{p}: \\Gamma \\rightarrow \\mathbb{R}$, the inverse permeability $\\boldsymbol{\\eta}$ ($\\boldsymbol{\\eta}=\\mathbf{K}^{-1}$ with $\\mathbf{K}: \\Omega_{1}\\cup  \\Omega_{2} \\rightarrow \\mathbb{R}^d$ being the permeability tensor) and $\\boldsymbol{\\eta}_\\Gamma$ that depends on the permeability tensor in the fracture and the fracture thickness, we seek fluid velocity $\\mathbf{u}: \\Omega_{1}\\cup  \\Omega_{2} \\rightarrow \\mathbb{R}^d$ and pressure $p: \\Omega_{1}\\cup  \\Omega_{2} \\rightarrow \\mathbb{R}$ satisfying the following Darcy interface problem: \n",
    "\\begin{alignat*}{2}\n",
    "  \\boldsymbol{\\eta} \\mathbf{u} + \\nabla p & = \\mathbf{f} \n",
    " && \\text{ in } \\Omega_1\\cup\\Omega_2, \\\\\n",
    "  \\text{div} \\mathbf{u} & =  g\n",
    "  &&\\text{ in } \\Omega_1\\cup\\Omega_2, \\\\\n",
    "  \\llbracket p \\rrbracket & =  \\boldsymbol{\\eta}_\\Gamma \\{\\mathbf{u}\\cdot\\mathbf{n}\\}\n",
    "  &&\\text{ on } \\Gamma,  \\\\\n",
    "  \\{p\\} & =  \\hat{p}+\\xi \\boldsymbol{\\eta}_\\Gamma \\llbracket \\mathbf{u}\\cdot\\mathbf{n} \\rrbracket\n",
    "  &&\\text{ on } \\Gamma, \\\\\n",
    "  p & =  p_B\n",
    "  &&\\text{ on } \\partial\\Omega_{p},\\\\\n",
    "  \\mathbf{u}\\cdot\\mathbf{n} & =  u_B\n",
    "  &&\\text{ on } \\partial\\Omega_{\\mathbf{u}}. \n",
    "\\end{alignat*}\n",
    "Here, the parameter $\\xi\\in(0,1/4]$, $\\mathbf{f} \\in \\mathbf{L}^2({\\Omega_1 \\cup \\Omega_2})$, $g \\in L^2({\\Omega_1 \\cup \\Omega_2})$,  $p_B \\in H^{1/2}(\\partial\\Omega_{p})$, $u_B \\in H^{-1/2}(\\partial\\Omega_{\\mathbf{u}})$, $\\hat{p} \\in H^{1/2}(\\Gamma)$. We assume that the permeability tensor $\\mathbf{K}$ is diagonal with the smallest diagonal entry being positive and bounded away from zero.\n"
   ]
  },
  {
   "cell_type": "code",
   "execution_count": 2,
   "id": "f722416c",
   "metadata": {},
   "outputs": [
    {
     "name": "stdout",
     "output_type": "stream",
     "text": [
      " ---  INFO CUT MESH  --- \n",
      " Number of subdomains          :\t2\n",
      " Number of elements in Omega_0 :\t174\n",
      " Number of elements in Omega_1 :\t60\n",
      " Total number of elements      :\t234\n",
      " Velocity space : \n",
      " nb node    \t388\n",
      " nb dof     \t388\n",
      " nb element \t234\n",
      " Pressure space : \n",
      " nb node    \t234\n",
      " nb dof     \t234\n",
      " nb element \t234\n"
     ]
    }
   ],
   "source": [
    "g               = USER_FUNC(func_div)\n",
    "p_B             = USER_FUNC(func_neumann)\n",
    "p_hat           = USER_FUNC(func_phat)\n",
    "fun_velocity    = USER_FUNC(func_velocity)\n",
    "fun_pressure    = USER_FUNC(func_pressure)\n",
    "fun_level_set   = USER_FUN_LS(func_level_set)\n",
    "\n",
    "set_verbose(1)\n",
    "darcy = DarcyCutFEM()\n",
    "darcy.build_mesh(11,11 ,sq_SW, sq_SW, sq_LGTH, sq_LGTH)\n",
    "darcy.init_space(fun_level_set, 'RT0')"
   ]
  },
  {
   "cell_type": "markdown",
   "id": "c3925cd1",
   "metadata": {},
   "source": [
    "\\begin{align}\n",
    "\ta(\\mathbf{u},\\mathbf{v}) + b(\\mathbf{v},p) &= \\mathcal{F} (\\mathbf{v}) \\text{ for all } \\mathbf{v}\\in \\mathbf{V}_0, \\\\\n",
    "\tb(\\mathbf{u},q) &= \\mathcal{G} (q) \\text{ for all } q\\in Q\n",
    "\\end{align}\n",
    "with \n",
    "\\begin{align}\n",
    "\ta(\\mathbf{u},\\mathbf{v}) &:= (\\boldsymbol{\\eta} \\mathbf{u},\\mathbf{v})_{\\Omega_1 \\cup \\Omega_2} +  (\\boldsymbol{\\eta}_{\\Gamma} \\{\\mathbf{u}\\cdot\\mathbf{n}\\},\\{\\mathbf{v}\\cdot\\mathbf{n}\\})_{\\Gamma} + (\\xi\\boldsymbol{\\eta}_{\\Gamma} [ \\mathbf{u}\\cdot\\mathbf{n} ], [\\mathbf{v}\\cdot\\mathbf{n}])_{\\Gamma} \\\\\n",
    "\tb(\\mathbf{u},q) &:= -(\\nabla \\cdot \\mathbf{u},q)_{\\Omega_1 \\cup \\Omega_2}  \\\\\n",
    "\t\\mathcal{F} (\\mathbf{v}) &:= (\\mathbf{f},\\mathbf{v})_{\\Omega_1 \\cup \\Omega_2} \n",
    "\t- (p_B,\\mathbf{v}\\cdot \\mathbf{n})_{\\partial \\Omega_p}  - (\\hat{p}, [\\mathbf{v}\\cdot\\mathbf{n}])_{\\Gamma} \\\\\n",
    "\t\\mathcal{G}(q) &:= - (g,q)_{\\Omega_1 \\cup \\Omega_2}\n",
    "\\end{align}\n"
   ]
  },
  {
   "cell_type": "code",
   "execution_count": 3,
   "id": "8bab4d0a",
   "metadata": {},
   "outputs": [],
   "source": [
    "darcy.add_bulk_integral(g)\n",
    "darcy.add_interface_integral(p_hat)\n",
    "darcy.add_natural_BC(p_B)"
   ]
  },
  {
   "cell_type": "markdown",
   "id": "48605c1d",
   "metadata": {},
   "source": [
    "Each element in the active mesh $\\mathcal{T}_{h,i}$ is classified either as having a large intersection with the domain $\\Omega_i$, or a small intersection. We say that an element $T \\in \\mathcal{T}_{h,i}$ has a large $\\Omega_i$-intersection if\n",
    "\\begin{equation}\n",
    "  \\delta_i  \\leq \\frac{|T \\cap \\Omega_i|}{|T|}.\n",
    "\\end{equation}\n",
    "\n",
    "Stabilization is applied only on internal faces of macro-elements. The stabilization terms are \n",
    "\n",
    "\\begin{align}\n",
    "  s_{\\mathbf{u}}(\\mathbf{u}_h,\\mathbf{v}_h) &= \\sum_{i=1}^2 \\sum_{M_L \\in \\mathcal{M}_{h,i}} \\sum_{F \\in \\mathcal{F}(M_L)} \\sum_{j=0}^{\\hat{k}+1} \\tau_{u} h^{2j + 1} ([D^j_{\\mathbf{n}_F} \\mathbf{u}_{h,i} ], [D^j_{\\mathbf{n}_F} \\mathbf{v}_{h,i}])_{F}, \\\\\n",
    "  s_{b}(\\mathbf{u}_h,q_h) &= \\sum_{i=1}^2 \\sum_{M_L \\in \\mathcal{M}_{h,i}} \\sum_{F \\in \\mathcal{F}(M_L)}  \\sum_{j=0}^{\\hat{k}} \\tau_{b} h^{2j + \\gamma} ( [D^j (\\nabla  \\mathbf{u}_{h,i})], [D^j q_{h,i}] )_{F}. \n",
    "\\end{align}"
   ]
  },
  {
   "cell_type": "code",
   "execution_count": 4,
   "id": "e14939f4",
   "metadata": {},
   "outputs": [
    {
     "name": "stdout",
     "output_type": "stream",
     "text": [
      " ---  INFO MACRO ELEMENT  --- \n",
      " Tolerance small element  :\t0.00125\n",
      " Small element in Omega 1 :\t4\n",
      " Small element in Omega 2 :\t20\n"
     ]
    }
   ],
   "source": [
    "tau_u = 0.1\n",
    "tau_b = 0.1\n",
    "delta_i = 0.25\n",
    "darcy.set_stabilization_penalty(tau_u, tau_b)\n",
    "darcy.add_macro_stabilization(delta_i)"
   ]
  },
  {
   "cell_type": "code",
   "execution_count": 5,
   "id": "4aac9894",
   "metadata": {},
   "outputs": [],
   "source": [
    "\n",
    "\n",
    "darcy.solve()"
   ]
  },
  {
   "cell_type": "code",
   "execution_count": 8,
   "id": "2da1c5b0",
   "metadata": {},
   "outputs": [
    {
     "name": "stdout",
     "output_type": "stream",
     "text": [
      " L2 error p      : 0.16080801821777166\n",
      " L2 error u      : 0.030387743609381273\n",
      " L2 error div(u) : 5.3811358199658576e-14\n"
     ]
    }
   ],
   "source": [
    "\n",
    "\n",
    "error_divu_L2 = darcy.L2error_div(g)\n",
    "error_u_L2    = darcy.L2error_vel(fun_velocity)\n",
    "error_p_L2    = darcy.L2error_pressure(fun_pressure)\n",
    "\n",
    "print(\" L2 error p      :\", error_p_L2)\n",
    "print(\" L2 error u      :\", error_u_L2)\n",
    "print(\" L2 error div(u) :\", error_divu_L2)"
   ]
  }
 ],
 "metadata": {
  "kernelspec": {
   "display_name": "Python 3.10.8 64-bit",
   "language": "python",
   "name": "python3"
  },
  "language_info": {
   "codemirror_mode": {
    "name": "ipython",
    "version": 3
   },
   "file_extension": ".py",
   "mimetype": "text/x-python",
   "name": "python",
   "nbconvert_exporter": "python",
   "pygments_lexer": "ipython3",
   "version": "3.10.9"
  },
  "vscode": {
   "interpreter": {
    "hash": "aee8b7b246df8f9039afb4144a1f6fd8d2ca17a180786b69acc140d282b71a49"
   }
  }
 },
 "nbformat": 4,
 "nbformat_minor": 5
}
