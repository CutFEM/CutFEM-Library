{
 "cells": [
  {
   "cell_type": "code",
   "execution_count": null,
   "id": "4ec6c0da",
   "metadata": {},
   "outputs": [],
   "source": [
    "#include <cmath>\n",
    "#include <cstdlib>\n",
    "#include <iostream>\n",
    "#include \"cpp/tool.hpp\""
   ]
  },
  {
   "cell_type": "code",
   "execution_count": null,
   "id": "2ffd8d35",
   "metadata": {},
   "outputs": [],
   "source": [
    "int main(int argc, char** argv ) {\n",
    "\n",
    "int i = 2;\n",
    "\n",
    "std::cout << i << std::endl;\n",
    "\n",
    "}"
   ]
  },
  {
   "cell_type": "code",
   "execution_count": null,
   "id": "323a52de",
   "metadata": {},
   "outputs": [],
   "source": []
  }
 ],
 "metadata": {
  "kernelspec": {
   "display_name": "C++17",
   "language": "C++17",
   "name": "xcpp17"
  }
 },
 "nbformat": 4,
 "nbformat_minor": 5
}
